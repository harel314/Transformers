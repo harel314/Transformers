{
 "cells": [
  {
   "cell_type": "code",
   "execution_count": 1,
   "metadata": {},
   "outputs": [],
   "source": [
    "from datasets import load_dataset\n",
    "import numpy as np\n",
    "from transformers import pipeline,AutoTokenizer,TrainingArguments,AutoModelForSequenceClassification,Trainer\n",
    "from pprint import pprint\n",
    "from torchinfo import summary\n",
    "from datasets import load_metric\n",
    "import json\n"
   ]
  },
  {
   "cell_type": "code",
   "execution_count": 6,
   "metadata": {},
   "outputs": [
    {
     "data": {
      "text/plain": [
       "MemoryMappedTable\n",
       "sentence1: string\n",
       "sentence2: string\n",
       "label: int64\n",
       "idx: int32\n",
       "----\n",
       "sentence1: [[\"No Weapons of Mass Destruction Found in Iraq Yet.\",\"A place of sorrow, after Pope John Paul II died, became a place of celebration, as Roman Catholic faithful gathered in downtown Chicago to mark the installation of new Pope Benedict XVI.\",\"Herceptin was already approved to treat the sickest breast cancer patients, and the company said, Monday, it will discuss with federal regulators the possibility of prescribing the drug for more breast cancer patients.\",\"Judie Vivian, chief executive at ProMedica, a medical service company that helps sustain the 2-year-old Vietnam Heart Institute in Ho Chi Minh City (formerly Saigon), said that so far about 1,500 children have received treatment.\",\"A man is due in court later charged with the murder 26 years ago of a teenager whose case was the first to be featured on BBC One's Crimewatch. Colette Aram, 16, was walking to her boyfriend's house in Keyworth, Nottinghamshire, on 30 October 1983 when she disappeared. Her body was later found in a field close to her home. Paul Stewart Hutchinson, 50, has been charged with murder and is due before Nottingham magistrates later.\",...,\"The Dow Jones Industrial Average closed at its lowest level in over six years on Thursday, having lost 1.16%, or 89.68 points, bringing it to a level of 7,465.95. It had, at one point, set an intraday bear market low of 7,447.55. It was the lowest ending for the index since October 9, 2002. The Dow has fallen almost fifteen percent since the start of this year.\",\"Crude oil prices shot to new highs yesterday as markets reacted to a threat by Russian authorities to shut down most of the production from that country's largest oil company\",\"The Sioux Ghost Shirt was a feature of Glasgow's Kelvingrove Museum for more than 100 years before being repatriated to its land of origin.\",\"Romano Prodi will meet the US President George Bush in his capacity as president of the European commission.\",\"Dr Raynard Kington, of the US National Institutes of Health, which funded the research, said: \"These findings establish that genetic factors play a strong role in autism spectrum disorder (ASD). \"Detailed analysis of the genes and how they affect brain development is likely to yield better strategies for diagnosing and treating children with autism.\" People with ASD, which include autism and Asperger's syndrome, have problems with social interaction, poor communication skills and tend to engage in repetitive behaviours.\"],[\"Felipe González Márquez (born March 5, 1942) is a Spanish socialist politician. He was the General Secretary of the Spanish Socialist Workers' Party (PSOE) from 1974 to 1997.\",\"In 1973, the United States and Communist China agreed to establish liaison offices in Beijing and Washington.\",\"In 1999, Victor Conte was sent two vials of a new drug by a chemist he knew and he started giving it to some of his clients. Including says Conte, one of Americas most iconic sportswomen, Marion Jones, who was about to compete in the 2000 Sydney Olympics.\",\"It would force countries in the region to choose between the United States and Japan -- or maybe between Japan and China . And it would collapse whatever promise the newly born Asia Pacific Economic Cooperation (APEC) holds as a vehicle to assure American commercial access to the booming Pacific markets . To risk all of this in the name of a flawed concept is foolish . This is not to deny the Administration 's understandable frustration with a persistently huge Japanese trade surplus.\",\"On June 28, 1997, in what would become known as the bite fight, Mike Tyson bit Evander Holyfield's ear, purportedly in retaliation for Holyfield headbutting him.\",...,\"Budapest consists of two parts, Buda and Pest, which are situated on opposite sides of the river and connected by a series of bridges.\",\"On December 6 2008, Adela Lupse, presenting the call-in quiz Telepremii on National TV on Romanian television, had what The Daily Telegraph described as a \"tantrum on air\". As the final prize became available, Ms Lupse's show had no callers. Already excited, she began to shout. Throwing the telephone down on the studio floor and stomping on it, she admonished her viewers, \"I want the telephone to ring now. Now. Call me now!\".\",\"WASHINGTON - The world's governments raced to avoid both a pandemic and global hysteria Sunday as more possible swine flu cases surfaced from Canada to New Zealand and the United States declared a public health emergency. \"It's not a time to panic,\" the White House said. Mexico, the outbreak's epicenter with up to 103 suspected deaths, canceled some church services and closed markets and restaurants. Few people ventured onto the streets, and some wore face masks. Canada became the third country to confirm cases, in six people, including some students who — like some New York City spring-breakers — got mildly ill in Mexico. Countries across Asia promised to quarantine feverish travelers returning from flu-affected areas.\",\"In a move reminiscent for some of another actor, Ronald Reagan, who was twice elected governor of California, Schwarzenegger said he would be putting his movie career on hold so he can devote his time to running for governor.\",\"JOHANNESBURG: Organizers of a peace conference that was to have been attended by five Nobel laureates in Johannesburg this week said Tuesday that they had canceled it after the South African government denied a visa to the Dalai Lama. Two of South Africa's Nobel Peace Prize laureates, the retired Anglican archbishop Desmond Tutu and former President F.W. de Klerk, condemned the government for giving in to pressure from China to block the Tibetan spiritual leader's entry into the country and said they would refuse to participate in the conference if he was not there. The executive director of the Norwegian Nobel Committee, Geir Lundestad, also said he would stay away.\"],[\"Brought under Ottoman rule in the 16th century, Jordan has been led only since the 1920s by Hashemite rulers, a family whose roots are in present-day Saudi Arabia.\",\"Definitely do not lift the ban on ivory, it will drive the species to near extinction again. Elephant numbers should be controlled but what has ivory got to do with it? It is a barbaric trade and should be banned permanently.\",\"The Kalido Technical Advisory Board members include Boris Evelson, founder and managing partner, Textra Group, Inc., and Bill Inmon, president, Inmon Data Systems.\",\"Edison decided to call \"his\" invention the Kinetoscope, combining the Greek root words \"kineto\" (movement), and \"scopos\" (\"to view\").\",\"Mohamed al-Sumaidaie, Iraq's ambassador to the United Nations, accused U.S. marines of murdering his cousin's 21-year-old son, Mohammed Sumaidaie, who was studying engineering at the University of Technology in Baghdad. \"All indications point to a killing of an unarmed innocent civilian - a cold-blooded murder,\" said Sumaidaie. \"The Marines were smiling at each other as they were leaving.\".\",...,\"There is none. They found as many weapons in this masjid as they found weapons of mass destruction in Iraq.\",\"Dr. Eric Goosby, a pioneer in the fight against AIDS, is President Obama's choice to run the American effort to combat the disease globally, the White House announced Monday. The President's Emergency Plan For AIDS Relief, known as Pepfar, was championed by President George W. Bush. It is expected to spend $48 billion over the next five years and is credited with markedly reducing the disease's death rate. Its prevention policy has been controversial because of its emphasis on socially conservative methods. With a new administration and a Democratic majority in the House, organizations seeking prevention choices beyond abstinence and fidelity — including a renewed commitment to distributing condoms — are eager to try to rewrite the guidelines.\",\"NASA's Saturn exploration spacecraft, Cassini , has discovered an atmosphere about the moon Enceladus . This is the first such discovery by Cassini, other than Titan , of the presence of an atmosphere around a Saturn moon.\",\"Brooklyn Borough Hall featured a Who's Who in New York's literary community during the second annual Brooklyn Book Festival. According to Brooklyn Borough President Marty Markowitz, the borough's zip code 11215 boasts more authors than anywhere else in the country. It appeared to be the case on Sunday. More than 100 authors were featured at the day-long event, including The Basketball Diaries writer Jim Carroll, former M*A*S*H star Mike Farrell, author and illustrator Mo Willems, Jack Kerouac's sometime lover and National Book Critics Circle Award recipient Joyce Johnson and PEN American Center President Francine Prose.\",\"Turkey is unlikely to become involved in, or allow U.S. forces to use Turkish territory in a Middle East war that does not threaten her territory directly.\"]]\n",
       "sentence2: [[\"Weapons of Mass Destruction Found in Iraq.\",\"Pope Benedict XVI is the new leader of the Roman Catholic Church.\",\"Herceptin can be used to treat breast cancer.\",\"The previous name of Ho Chi Minh City was Saigon.\",\"Paul Stewart Hutchinson is accused of having stabbed a girl.\",...,\"The Dow Jones has gained points.\",\"Crude oil prices rise.\",\"A Sioux ghost shirt was returned by a Scottish museum.\",\"George Bush is the president of the European Commission.\",\"The ASD includes diseases such as autism and Asperger's syndrome.\"],[\"Felipe González is the President of Spain.\",\"Communist China is an organisation based in Beijing and Washington.\",\"Sportswomen have been suspected of doping.\",\"APEC is the newly born Asia Pacific Economic Cooperation.\",\"Mike Tyson bit Evander Holyfield's ear on June 28, 1997.\",...,\"Pest is on the opposite, east bank.\",\"Ms Lupse is a TV presenter.\",\"As many as 103 people in Mexico have died of swine flu.\",\"Ronald Regan was elected governor of California.\",\"The Peace Conference in South Africa has been canceled, giving support to the Dalai Lama.\"],[\"The Hashemite dynasty rules Jordan.\",\"The ban on ivory trade has been effective in protecting the elephant from extinction.\",\"Boris Evelson founded the Kalido Technical Advisory Board.\",\"Edison invented the Kinetoscope.\",\"Mohamed al-Sumaidaie is related by blood to the United Nations.\",...,\"Weapons of mass destruction found in Iraq.\",\"Pepfar is committed to fighting AIDS.\",\"Titan is the fifteenth of Saturn's known satellites.\",\"The Brooklyn Book Festival is held in Brooklyn Borough every year.\",\"U.S. to use Turkish military bases.\"]]\n",
       "label: [[1,0,0,0,1,...,1,0,0,1,0],[1,1,1,0,0,...,1,0,0,0,0],[0,0,1,0,1,...,1,0,1,0,1]]\n",
       "idx: [[0,1,2,3,4,...,995,996,997,998,999],[1000,1001,1002,1003,1004,...,1995,1996,1997,1998,1999],[2000,2001,2002,2003,2004,...,2485,2486,2487,2488,2489]]"
      ]
     },
     "execution_count": 6,
     "metadata": {},
     "output_type": "execute_result"
    }
   ],
   "source": [
    "raw_datasets = load_dataset(\"glue\",\"rte\")\n",
    "raw_datasets.data[\"train\"]"
   ]
  },
  {
   "cell_type": "code",
   "execution_count": 7,
   "metadata": {},
   "outputs": [
    {
     "data": {
      "application/vnd.jupyter.widget-view+json": {
       "model_id": "04d64f19918d433e98c23a0cc3625dcc",
       "version_major": 2,
       "version_minor": 0
      },
      "text/plain": [
       "Map:   0%|          | 0/2490 [00:00<?, ? examples/s]"
      ]
     },
     "metadata": {},
     "output_type": "display_data"
    },
    {
     "data": {
      "application/vnd.jupyter.widget-view+json": {
       "model_id": "f098423f732d47b889fed7fa91750d03",
       "version_major": 2,
       "version_minor": 0
      },
      "text/plain": [
       "Map:   0%|          | 0/277 [00:00<?, ? examples/s]"
      ]
     },
     "metadata": {},
     "output_type": "display_data"
    },
    {
     "data": {
      "application/vnd.jupyter.widget-view+json": {
       "model_id": "6f3d182965e44dd6ab09832fa378cc2d",
       "version_major": 2,
       "version_minor": 0
      },
      "text/plain": [
       "Map:   0%|          | 0/3000 [00:00<?, ? examples/s]"
      ]
     },
     "metadata": {},
     "output_type": "display_data"
    }
   ],
   "source": [
    "checkpoint = \"distilbert-base-uncased\"\n",
    "tokenizer = AutoTokenizer.from_pretrained(checkpoint)\n",
    "def tokenize_fn(batch):\n",
    "    return tokenizer(batch['sentence1'],\n",
    "                     batch['sentence2'],\n",
    "                     truncation=True)\n",
    "tokenized_datasets = raw_datasets.map(tokenize_fn,batched=True)"
   ]
  },
  {
   "cell_type": "code",
   "execution_count": 30,
   "metadata": {},
   "outputs": [
    {
     "name": "stderr",
     "output_type": "stream",
     "text": [
      "Some weights of DistilBertForSequenceClassification were not initialized from the model checkpoint at distilbert-base-uncased and are newly initialized: ['classifier.bias', 'pre_classifier.weight', 'classifier.weight', 'pre_classifier.bias']\n",
      "You should probably TRAIN this model on a down-stream task to be able to use it for predictions and inference.\n"
     ]
    }
   ],
   "source": [
    "training_args = TrainingArguments(\n",
    "    'trainer',\n",
    "    evaluation_strategy='epoch',\n",
    "    save_strategy='epoch',\n",
    "    num_train_epochs=3,\n",
    ")\n",
    "\n",
    "model = AutoModelForSequenceClassification.from_pretrained(\n",
    "    checkpoint,\n",
    "    num_labels=2\n",
    ")\n",
    "summary(model)\n",
    "metric = load_metric(\"glue\",\"sst2\")\n",
    "def compute_metrics(logits_and_labels):\n",
    "    logits,labels = logits_and_labels\n",
    "    predictions = np.argmax(logits,axis=1)\n",
    "    return metric.compute(predictions=predictions,references=labels)\n",
    "\n",
    "trainer = Trainer(\n",
    "    model,\n",
    "    training_args,\n",
    "    train_dataset=tokenized_datasets[\"train\"],\n",
    "    eval_dataset=tokenized_datasets[\"validation\"],\n",
    "    tokenizer=tokenizer,\n",
    "    compute_metrics=compute_metrics,\n",
    ")"
   ]
  },
  {
   "cell_type": "code",
   "execution_count": 31,
   "metadata": {},
   "outputs": [
    {
     "data": {
      "application/vnd.jupyter.widget-view+json": {
       "model_id": "d8e5f6d387f54f9ba573be0be64ee544",
       "version_major": 2,
       "version_minor": 0
      },
      "text/plain": [
       "  0%|          | 0/936 [00:00<?, ?it/s]"
      ]
     },
     "metadata": {},
     "output_type": "display_data"
    },
    {
     "data": {
      "application/vnd.jupyter.widget-view+json": {
       "model_id": "5948100c412e474db4b6680adc6980f0",
       "version_major": 2,
       "version_minor": 0
      },
      "text/plain": [
       "  0%|          | 0/35 [00:00<?, ?it/s]"
      ]
     },
     "metadata": {},
     "output_type": "display_data"
    },
    {
     "name": "stdout",
     "output_type": "stream",
     "text": [
      "{'eval_loss': 0.689373791217804, 'eval_accuracy': 0.5342960288808665, 'eval_runtime': 2.0539, 'eval_samples_per_second': 134.864, 'eval_steps_per_second': 17.041, 'epoch': 1.0}\n",
      "{'loss': 0.6837, 'learning_rate': 2.3290598290598293e-05, 'epoch': 1.6}\n"
     ]
    },
    {
     "data": {
      "application/vnd.jupyter.widget-view+json": {
       "model_id": "336b5cddc26a405a91d33e1ebb47f834",
       "version_major": 2,
       "version_minor": 0
      },
      "text/plain": [
       "  0%|          | 0/35 [00:00<?, ?it/s]"
      ]
     },
     "metadata": {},
     "output_type": "display_data"
    },
    {
     "name": "stdout",
     "output_type": "stream",
     "text": [
      "{'eval_loss': 0.7390849590301514, 'eval_accuracy': 0.5703971119133574, 'eval_runtime': 2.0748, 'eval_samples_per_second': 133.506, 'eval_steps_per_second': 16.869, 'epoch': 2.0}\n"
     ]
    },
    {
     "data": {
      "application/vnd.jupyter.widget-view+json": {
       "model_id": "5a7a845ed12e47c8a1e053d1015bb7a0",
       "version_major": 2,
       "version_minor": 0
      },
      "text/plain": [
       "  0%|          | 0/35 [00:00<?, ?it/s]"
      ]
     },
     "metadata": {},
     "output_type": "display_data"
    },
    {
     "name": "stdout",
     "output_type": "stream",
     "text": [
      "{'eval_loss': 0.9290688037872314, 'eval_accuracy': 0.6101083032490975, 'eval_runtime': 2.044, 'eval_samples_per_second': 135.518, 'eval_steps_per_second': 17.123, 'epoch': 3.0}\n",
      "{'train_runtime': 218.9793, 'train_samples_per_second': 34.113, 'train_steps_per_second': 4.274, 'train_loss': 0.5782533140264006, 'epoch': 3.0}\n"
     ]
    },
    {
     "data": {
      "text/plain": [
       "TrainOutput(global_step=936, training_loss=0.5782533140264006, metrics={'train_runtime': 218.9793, 'train_samples_per_second': 34.113, 'train_steps_per_second': 4.274, 'train_loss': 0.5782533140264006, 'epoch': 3.0})"
      ]
     },
     "execution_count": 31,
     "metadata": {},
     "output_type": "execute_result"
    }
   ],
   "source": [
    "trainer.train()"
   ]
  },
  {
   "cell_type": "code",
   "execution_count": 33,
   "metadata": {},
   "outputs": [
    {
     "data": {
      "text/plain": [
       "[{'label': 'LABEL_0', 'score': 0.823796272277832}]"
      ]
     },
     "execution_count": 33,
     "metadata": {},
     "output_type": "execute_result"
    }
   ],
   "source": [
    "trainer.save_model(\"my_trained_model\")\n",
    "newmodel = pipeline('text-classification',model=\"my_trained_model\",device=0)\n"
   ]
  },
  {
   "cell_type": "code",
   "execution_count": 34,
   "metadata": {},
   "outputs": [
    {
     "data": {
      "text/plain": [
       "[{'label': 'LABEL_0', 'score': 0.9223436117172241}]"
      ]
     },
     "execution_count": 34,
     "metadata": {},
     "output_type": "execute_result"
    }
   ],
   "source": [
    "raw_datasets.data['train'][0]\n",
    "newmodel('look at my horse.my horse is amazing')\n",
    "\n",
    "newmodel(\"i love food. food is my love\")"
   ]
  }
 ],
 "metadata": {
  "kernelspec": {
   "display_name": "base",
   "language": "python",
   "name": "python3"
  },
  "language_info": {
   "codemirror_mode": {
    "name": "ipython",
    "version": 3
   },
   "file_extension": ".py",
   "mimetype": "text/x-python",
   "name": "python",
   "nbconvert_exporter": "python",
   "pygments_lexer": "ipython3",
   "version": "3.10.9"
  }
 },
 "nbformat": 4,
 "nbformat_minor": 2
}
